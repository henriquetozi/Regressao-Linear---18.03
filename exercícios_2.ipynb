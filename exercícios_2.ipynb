{
  "nbformat": 4,
  "nbformat_minor": 0,
  "metadata": {
    "colab": {
      "provenance": [],
      "authorship_tag": "ABX9TyOkoUHFpajuw1NrU2SHPK17",
      "include_colab_link": true
    },
    "kernelspec": {
      "name": "python3",
      "display_name": "Python 3"
    },
    "language_info": {
      "name": "python"
    }
  },
  "cells": [
    {
      "cell_type": "markdown",
      "metadata": {
        "id": "view-in-github",
        "colab_type": "text"
      },
      "source": [
        "<a href=\"https://colab.research.google.com/github/henriquetozi/Regressao-Linear---18.03/blob/main/exerc%C3%ADcios_2.ipynb\" target=\"_parent\"><img src=\"https://colab.research.google.com/assets/colab-badge.svg\" alt=\"Open In Colab\"/></a>"
      ]
    },
    {
      "cell_type": "code",
      "execution_count": 9,
      "metadata": {
        "id": "fRz672bFUz89",
        "colab": {
          "base_uri": "https://localhost:8080/"
        },
        "outputId": "d7c7fdd2-07c8-4325-d238-59499a5ac2dd"
      },
      "outputs": [
        {
          "output_type": "stream",
          "name": "stdout",
          "text": [
            "Meu nome é henrique, tenho 21 anos e minha altura é 1.77 metros.\n"
          ]
        }
      ],
      "source": [
        "#1\n",
        "nome = \"henrique\"\n",
        "idade = 21\n",
        "altura = 1.77\n",
        "print(f\"Meu nome é {nome}, tenho {idade} anos e minha altura é {altura} metros.\")"
      ]
    },
    {
      "cell_type": "code",
      "source": [
        "#2\n",
        "frase = \"Python é uma linguagem de programação muito poderosa.\"\n"
      ],
      "metadata": {
        "id": "sgiPfOFTV6Ry"
      },
      "execution_count": 11,
      "outputs": []
    },
    {
      "cell_type": "code",
      "source": [
        "frase.upper()"
      ],
      "metadata": {
        "colab": {
          "base_uri": "https://localhost:8080/",
          "height": 35
        },
        "id": "8Ptsah8wXSb4",
        "outputId": "ddf6b676-6bb0-4f27-d193-9e80fd531d9e"
      },
      "execution_count": 12,
      "outputs": [
        {
          "output_type": "execute_result",
          "data": {
            "text/plain": [
              "'PYTHON É UMA LINGUAGEM DE PROGRAMAÇÃO MUITO PODEROSA.'"
            ],
            "application/vnd.google.colaboratory.intrinsic+json": {
              "type": "string"
            }
          },
          "metadata": {},
          "execution_count": 12
        }
      ]
    },
    {
      "cell_type": "code",
      "source": [
        "frase.lower()"
      ],
      "metadata": {
        "colab": {
          "base_uri": "https://localhost:8080/",
          "height": 35
        },
        "id": "t4kGEKH0XZfx",
        "outputId": "4bd541a2-4e54-4fd3-c8bd-51fbe9e075de"
      },
      "execution_count": 13,
      "outputs": [
        {
          "output_type": "execute_result",
          "data": {
            "text/plain": [
              "'python é uma linguagem de programação muito poderosa.'"
            ],
            "application/vnd.google.colaboratory.intrinsic+json": {
              "type": "string"
            }
          },
          "metadata": {},
          "execution_count": 13
        }
      ]
    },
    {
      "cell_type": "code",
      "source": [
        "frase.replace(\"muito\",\"extremamente\")"
      ],
      "metadata": {
        "colab": {
          "base_uri": "https://localhost:8080/",
          "height": 35
        },
        "id": "X43caX_cXexb",
        "outputId": "065f87a8-65e0-4aed-d8a2-8f617dfd2e1a"
      },
      "execution_count": 17,
      "outputs": [
        {
          "output_type": "execute_result",
          "data": {
            "text/plain": [
              "'Python é uma linguagem de programação extremamente poderosa.'"
            ],
            "application/vnd.google.colaboratory.intrinsic+json": {
              "type": "string"
            }
          },
          "metadata": {},
          "execution_count": 17
        }
      ]
    },
    {
      "cell_type": "code",
      "source": [
        "frase.split()"
      ],
      "metadata": {
        "colab": {
          "base_uri": "https://localhost:8080/"
        },
        "id": "gv6pNvWPXrEA",
        "outputId": "098919b5-7674-47b4-facb-69e7fa6df741"
      },
      "execution_count": 18,
      "outputs": [
        {
          "output_type": "execute_result",
          "data": {
            "text/plain": [
              "['Python', 'é', 'uma', 'linguagem', 'de', 'programação', 'muito', 'poderosa.']"
            ]
          },
          "metadata": {},
          "execution_count": 18
        }
      ]
    },
    {
      "cell_type": "code",
      "source": [
        "# 3\n",
        "# Criando a lista frutas\n",
        "frutas = [\"maçã\", \"banana\", \"laranja\", \"uva\", \"abacaxi\"]\n",
        "\n",
        "# Imprimindo a lista frutas\n",
        "print(\"Frutas: \", frutas)\n",
        "\n",
        "# add \"manga\"\n",
        "frutas.append(\"manga\")\n",
        "print(\"Frutas: \", frutas)\n",
        "\n",
        "# removendo \"laranja\"\n",
        "frutas.remove(\"laranja\")\n",
        "print(\"Frutas: \", frutas)\n",
        "\n",
        "#terceiro item\n",
        "terceira_fruta = frutas[2]\n",
        "print(\"Terceira fruta da lista:\", terceira_fruta)\n",
        "\n",
        "# lista em ordem alfabética\n",
        "frutas.sort()\n",
        "print(\"Lista ordenada:\", frutas)\n",
        "\n",
        "# lista numeros\n",
        "numeros = [10, 5, 8, 3, 6]\n",
        "\n",
        "# Calculando a soma dos elementos da lista numeros\n",
        "soma_numeros = sum(numeros)\n",
        "print(\"Soma dos números:\", soma_numeros)\n"
      ],
      "metadata": {
        "colab": {
          "base_uri": "https://localhost:8080/"
        },
        "id": "2QQvJxtmX_Aw",
        "outputId": "b525a66c-315e-497f-ca4a-b0ee9997df94"
      },
      "execution_count": 28,
      "outputs": [
        {
          "output_type": "stream",
          "name": "stdout",
          "text": [
            "Frutas:  ['maçã', 'banana', 'laranja', 'uva', 'abacaxi']\n",
            "Frutas:  ['maçã', 'banana', 'laranja', 'uva', 'abacaxi', 'manga']\n",
            "Frutas:  ['maçã', 'banana', 'uva', 'abacaxi', 'manga']\n",
            "Terceira fruta da lista: uva\n",
            "Lista ordenada: ['abacaxi', 'banana', 'manga', 'maçã', 'uva']\n",
            "Soma dos números: 32\n"
          ]
        }
      ]
    },
    {
      "cell_type": "code",
      "source": [
        "# 6\n",
        "peso = float(input(\"Digite seu peso (kg): \"))\n",
        "altura = float(input(\"Digite sua altura (m): \"))\n",
        "imc = peso / (altura ** 2)\n",
        "print(f\"Seu IMC é: {imc:.2f}\")\n"
      ],
      "metadata": {
        "colab": {
          "base_uri": "https://localhost:8080/"
        },
        "id": "UI08rO70Z7gW",
        "outputId": "dd29dc36-8f71-40f4-b4fb-7d7034841eb1"
      },
      "execution_count": 32,
      "outputs": [
        {
          "output_type": "stream",
          "name": "stdout",
          "text": [
            "Digite seu peso (kg): 78\n",
            "Digite sua altura (m): 1.77\n",
            "Seu IMC é: 24.90\n"
          ]
        }
      ]
    },
    {
      "cell_type": "code",
      "source": [
        "# 7\n",
        "print(\"Digite seu nome: \")\n",
        "nome = input()\n",
        "print(\"Olá, \", nome)"
      ],
      "metadata": {
        "colab": {
          "base_uri": "https://localhost:8080/"
        },
        "id": "vXqb0PqdatYa",
        "outputId": "aef82288-ce78-40d6-891d-0676fa21a6dc"
      },
      "execution_count": 33,
      "outputs": [
        {
          "output_type": "stream",
          "name": "stdout",
          "text": [
            "Digite seu nome: \n",
            "Henrique\n",
            "Olá,  Henrique\n"
          ]
        }
      ]
    },
    {
      "cell_type": "code",
      "source": [
        "#8\n",
        "email = input(\"Digite seu e-mail: \")\n",
        "# Divide o e-mail pelo '@' e pega a parte do domínio\n",
        "dominio = email.split(\"@\")[-1]\n",
        "# Exibe o domínio\n",
        "print(f\"O domínio do seu e-mail é: {dominio}\")\n"
      ],
      "metadata": {
        "colab": {
          "base_uri": "https://localhost:8080/"
        },
        "id": "I3EwNv5wa3mQ",
        "outputId": "45110beb-0eee-41a3-d2e0-d97945d69bb6"
      },
      "execution_count": 34,
      "outputs": [
        {
          "output_type": "stream",
          "name": "stdout",
          "text": [
            "Digite seu e-mail: tozihenrique@gmail.com\n",
            "O domínio do seu e-mail é: gmail.com\n"
          ]
        }
      ]
    }
  ]
}