{
 "cells": [
  {
   "cell_type": "code",
   "execution_count": 2,
   "id": "31ded673-eab9-4f5c-8dfa-707bae7d9700",
   "metadata": {
    "tags": []
   },
   "outputs": [
    {
     "data": {
      "text/plain": [
       "1"
      ]
     },
     "execution_count": 2,
     "metadata": {},
     "output_type": "execute_result"
    }
   ],
   "source": [
    "# Números e operações\n",
    "\n",
    "2-1"
   ]
  },
  {
   "cell_type": "code",
   "execution_count": 3,
   "id": "dc46939c-ef39-4bb6-85ff-13420f8eab21",
   "metadata": {
    "tags": []
   },
   "outputs": [
    {
     "data": {
      "text/plain": [
       "4"
      ]
     },
     "execution_count": 3,
     "metadata": {},
     "output_type": "execute_result"
    }
   ],
   "source": [
    "2*2"
   ]
  },
  {
   "cell_type": "code",
   "execution_count": 4,
   "id": "87395b09-3f6b-42e2-8330-93ef97a854e6",
   "metadata": {
    "tags": []
   },
   "outputs": [
    {
     "data": {
      "text/plain": [
       "2.0"
      ]
     },
     "execution_count": 4,
     "metadata": {},
     "output_type": "execute_result"
    }
   ],
   "source": [
    "4/2"
   ]
  },
  {
   "cell_type": "code",
   "execution_count": 5,
   "id": "987125dd-493b-4c20-952b-0966da942665",
   "metadata": {
    "tags": []
   },
   "outputs": [
    {
     "data": {
      "text/plain": [
       "256"
      ]
     },
     "execution_count": 5,
     "metadata": {},
     "output_type": "execute_result"
    }
   ],
   "source": [
    "2**8"
   ]
  },
  {
   "cell_type": "code",
   "execution_count": 6,
   "id": "8dd959a5-468e-4a18-9d40-d43a99fdf306",
   "metadata": {
    "tags": []
   },
   "outputs": [
    {
     "data": {
      "text/plain": [
       "12"
      ]
     },
     "execution_count": 6,
     "metadata": {},
     "output_type": "execute_result"
    }
   ],
   "source": [
    "(2+2) + 4*2"
   ]
  },
  {
   "cell_type": "code",
   "execution_count": 7,
   "id": "e94bf71e-a312-43aa-b4d9-f80dd225d376",
   "metadata": {
    "tags": []
   },
   "outputs": [
    {
     "data": {
      "text/plain": [
       "5"
      ]
     },
     "execution_count": 7,
     "metadata": {},
     "output_type": "execute_result"
    }
   ],
   "source": [
    "# Variáveis \n",
    "\n",
    "a = 5 \n",
    "a"
   ]
  },
  {
   "cell_type": "code",
   "execution_count": 9,
   "id": "e5143cd9-7df0-4e01-a401-b383ff3aaeba",
   "metadata": {
    "tags": []
   },
   "outputs": [],
   "source": [
    "variavel_um = 2"
   ]
  },
  {
   "cell_type": "code",
   "execution_count": 10,
   "id": "a4f45365-634f-4c37-9bad-4ecf16611e89",
   "metadata": {
    "tags": []
   },
   "outputs": [
    {
     "data": {
      "text/plain": [
       "7"
      ]
     },
     "execution_count": 10,
     "metadata": {},
     "output_type": "execute_result"
    }
   ],
   "source": [
    "terceira_variavel = a + variavel_um\n",
    "terceira_variavel"
   ]
  },
  {
   "cell_type": "code",
   "execution_count": 16,
   "id": "9c4e1d35-a792-45c6-a8bd-5d2d83bcfd40",
   "metadata": {
    "tags": []
   },
   "outputs": [],
   "source": [
    "a = a ** 2"
   ]
  },
  {
   "cell_type": "code",
   "execution_count": 15,
   "id": "73a7312d-7418-42f3-9794-a7e024b36bbb",
   "metadata": {
    "tags": []
   },
   "outputs": [
    {
     "data": {
      "text/plain": [
       "'henrique'"
      ]
     },
     "execution_count": 15,
     "metadata": {},
     "output_type": "execute_result"
    }
   ],
   "source": [
    "# String\n",
    "\n",
    "minha_string = \"henrique\"\n",
    "minha_string"
   ]
  },
  {
   "cell_type": "code",
   "execution_count": 18,
   "id": "de9ecd20-3cc6-417a-a728-b49d169ef239",
   "metadata": {
    "tags": []
   },
   "outputs": [
    {
     "data": {
      "text/plain": [
       "'henriquetozi'"
      ]
     },
     "execution_count": 18,
     "metadata": {},
     "output_type": "execute_result"
    }
   ],
   "source": [
    "minha_string2 = \"tozi\"\n",
    "minha_string + minha_string2"
   ]
  },
  {
   "cell_type": "code",
   "execution_count": 19,
   "id": "472e7fa6-80e8-4618-90dd-4270b991fbc2",
   "metadata": {
    "tags": []
   },
   "outputs": [
    {
     "data": {
      "text/plain": [
       "8"
      ]
     },
     "execution_count": 19,
     "metadata": {},
     "output_type": "execute_result"
    }
   ],
   "source": [
    "len(minha_string)"
   ]
  },
  {
   "cell_type": "code",
   "execution_count": 21,
   "id": "31207924-0f82-4ff2-85c6-9d5d13305e62",
   "metadata": {
    "tags": []
   },
   "outputs": [
    {
     "data": {
      "text/plain": [
       "'h'"
      ]
     },
     "execution_count": 21,
     "metadata": {},
     "output_type": "execute_result"
    }
   ],
   "source": [
    "minha_string[0]"
   ]
  },
  {
   "cell_type": "code",
   "execution_count": 22,
   "id": "5f06e767-59db-4275-8e28-f1a75de9430f",
   "metadata": {
    "tags": []
   },
   "outputs": [
    {
     "data": {
      "text/plain": [
       "'enrique'"
      ]
     },
     "execution_count": 22,
     "metadata": {},
     "output_type": "execute_result"
    }
   ],
   "source": [
    "minha_string[1:]"
   ]
  },
  {
   "cell_type": "code",
   "execution_count": 23,
   "id": "743abcca-6e1a-4fe8-9b29-04b89ef4564f",
   "metadata": {
    "tags": []
   },
   "outputs": [
    {
     "data": {
      "text/plain": [
       "'enr'"
      ]
     },
     "execution_count": 23,
     "metadata": {},
     "output_type": "execute_result"
    }
   ],
   "source": [
    "minha_string[1:4]"
   ]
  },
  {
   "cell_type": "code",
   "execution_count": 24,
   "id": "c3c6bb0c-939c-42b8-b48b-77b4aec9e87b",
   "metadata": {
    "tags": []
   },
   "outputs": [
    {
     "data": {
      "text/plain": [
       "'e'"
      ]
     },
     "execution_count": 24,
     "metadata": {},
     "output_type": "execute_result"
    }
   ],
   "source": [
    "minha_string[-1]"
   ]
  },
  {
   "cell_type": "code",
   "execution_count": 25,
   "id": "10e00e0f-557b-431c-8774-bf2f744dad5b",
   "metadata": {
    "tags": []
   },
   "outputs": [
    {
     "data": {
      "text/plain": [
       "'HENRIQUE'"
      ]
     },
     "execution_count": 25,
     "metadata": {},
     "output_type": "execute_result"
    }
   ],
   "source": [
    "# Métodos embutidos para strings \n",
    "\n",
    "# Converter para caixa alta\n",
    "\n",
    "minha_string.upper()"
   ]
  },
  {
   "cell_type": "code",
   "execution_count": 26,
   "id": "dd1475c8-8061-45aa-a06f-4aaf86bcc213",
   "metadata": {
    "tags": []
   },
   "outputs": [
    {
     "data": {
      "text/plain": [
       "'henrique'"
      ]
     },
     "execution_count": 26,
     "metadata": {},
     "output_type": "execute_result"
    }
   ],
   "source": [
    "minha_string.lower()"
   ]
  },
  {
   "cell_type": "code",
   "execution_count": 33,
   "id": "cf4b4052-d2fd-4aee-a414-87686e5d4aba",
   "metadata": {
    "tags": []
   },
   "outputs": [
    {
     "name": "stdout",
     "output_type": "stream",
     "text": [
      "Idade da pessoa é: 20 e o nome da pessoa é Henrique\n"
     ]
    }
   ],
   "source": [
    "idade = 20\n",
    "nome = \"Henrique\"\n",
    "\n",
    "print (\"Idade da pessoa é: {a} e o nome da pessoa é {b}\".format(a = idade, b = nome))"
   ]
  },
  {
   "cell_type": "code",
   "execution_count": 33,
   "id": "a9031e90",
   "metadata": {
    "tags": []
   },
   "outputs": [
    {
     "name": "stdout",
     "output_type": "stream",
     "text": [
      "Idade da pessoa é: 20 e o nome da pessoa é Henrique\n"
     ]
    }
   ],
   "source": [
    "idade = 20\n",
    "nome = \"Henrique\"\n",
    "\n",
    "print (\"Idade da pessoa é: {a} e o nome da pessoa é {b}\".format(a = idade, b = nome))"
   ]
  },
  {
   "cell_type": "code",
   "execution_count": 33,
   "id": "ff5d5112",
   "metadata": {
    "tags": []
   },
   "outputs": [
    {
     "name": "stdout",
     "output_type": "stream",
     "text": [
      "Idade da pessoa é: 20 e o nome da pessoa é Henrique\n"
     ]
    }
   ],
   "source": [
    "idade = 20\n",
    "nome = \"Henrique\"\n",
    "\n",
    "print (\"Idade da pessoa é: {a} e o nome da pessoa é {b}\".format(a = idade, b = nome))"
   ]
  },
  {
   "cell_type": "code",
   "execution_count": 52,
   "id": "eabf1531-4cac-4902-a81f-d7a7d3a7c80d",
   "metadata": {
    "tags": []
   },
   "outputs": [
    {
     "data": {
      "text/plain": [
       "['d', 'c', 'b', 'a']"
      ]
     },
     "execution_count": 52,
     "metadata": {},
     "output_type": "execute_result"
    }
   ],
   "source": [
    "outra_lista"
   ]
  },
  {
   "cell_type": "code",
   "execution_count": 52,
   "id": "f3d54ae5",
   "metadata": {
    "tags": []
   },
   "outputs": [
    {
     "data": {
      "text/plain": [
       "['d', 'c', 'b', 'a']"
      ]
     },
     "execution_count": 52,
     "metadata": {},
     "output_type": "execute_result"
    }
   ],
   "source": [
    "outra_lista"
   ]
  },
  {
   "cell_type": "code",
   "execution_count": 52,
   "id": "d5a46416",
   "metadata": {
    "tags": []
   },
   "outputs": [
    {
     "data": {
      "text/plain": [
       "['d', 'c', 'b', 'a']"
      ]
     },
     "execution_count": 52,
     "metadata": {},
     "output_type": "execute_result"
    }
   ],
   "source": [
    "outra_lista"
   ]
  },
  {
   "cell_type": "code",
   "execution_count": 52,
   "id": "5ffd9922",
   "metadata": {
    "tags": []
   },
   "outputs": [
    {
     "data": {
      "text/plain": [
       "['d', 'c', 'b', 'a']"
      ]
     },
     "execution_count": 52,
     "metadata": {},
     "output_type": "execute_result"
    }
   ],
   "source": [
    "outra_lista"
   ]
  },
  {
   "cell_type": "code",
   "execution_count": 52,
   "id": "095c21a4",
   "metadata": {
    "tags": []
   },
   "outputs": [
    {
     "data": {
      "text/plain": [
       "['d', 'c', 'b', 'a']"
      ]
     },
     "execution_count": 52,
     "metadata": {},
     "output_type": "execute_result"
    }
   ],
   "source": [
    "outra_lista"
   ]
  },
  {
   "cell_type": "code",
   "execution_count": 52,
   "id": "4cdc9253",
   "metadata": {
    "tags": []
   },
   "outputs": [
    {
     "data": {
      "text/plain": [
       "['d', 'c', 'b', 'a']"
      ]
     },
     "execution_count": 52,
     "metadata": {},
     "output_type": "execute_result"
    }
   ],
   "source": [
    "outra_lista"
   ]
  },
  {
   "cell_type": "code",
   "execution_count": 52,
   "id": "db008982",
   "metadata": {
    "tags": []
   },
   "outputs": [
    {
     "data": {
      "text/plain": [
       "['d', 'c', 'b', 'a']"
      ]
     },
     "execution_count": 52,
     "metadata": {},
     "output_type": "execute_result"
    }
   ],
   "source": [
    "outra_lista"
   ]
  },
  {
   "cell_type": "code",
   "execution_count": 54,
   "id": "8c064b4f-7158-4536-a9a0-3bb0ead44e53",
   "metadata": {
    "tags": []
   },
   "outputs": [
    {
     "name": "stdout",
     "output_type": "stream",
     "text": [
      "Digite seu nome: \n"
     ]
    },
    {
     "name": "stdin",
     "output_type": "stream",
     "text": [
      " Jussaro\n"
     ]
    },
    {
     "name": "stdout",
     "output_type": "stream",
     "text": [
      "Olá,  Jussaro\n"
     ]
    }
   ],
   "source": [
    "# Inputs\n",
    "print(\"Digite seu nome: \")\n",
    "a = input()\n",
    "print(\"Olá, \",a)\n"
   ]
  }
 ],
 "metadata": {
  "kernelspec": {
   "display_name": "Python 3 (ipykernel)",
   "language": "python",
   "name": "python3"
  },
  "language_info": {
   "codemirror_mode": {
    "name": "ipython",
    "version": 3
   },
   "file_extension": ".py",
   "mimetype": "text/x-python",
   "name": "python",
   "nbconvert_exporter": "python",
   "pygments_lexer": "ipython3",
   "version": "3.11.5"
  }
 },
 "nbformat": 4,
 "nbformat_minor": 5
}
