{
 "cells": [
  {
   "cell_type": "markdown",
   "id": "28ce2f2f-8597-48d6-ae87-ca70388f1247",
   "metadata": {},
   "source": [
    "DICIONÁRIO"
   ]
  },
  {
   "cell_type": "code",
   "execution_count": 1,
   "id": "d4b6a3c1-b1b8-4553-a082-f0e501976702",
   "metadata": {
    "tags": []
   },
   "outputs": [],
   "source": [
    "meu_dicionario = {\"nome\":\"Paulo\", \"idade\": 30, \"filhos\" : ['João', 'Maria']}"
   ]
  },
  {
   "cell_type": "code",
   "execution_count": 2,
   "id": "4a218d29-b440-404d-975e-965cc94bda9e",
   "metadata": {
    "tags": []
   },
   "outputs": [
    {
     "data": {
      "text/plain": [
       "{'nome': 'Paulo', 'idade': 30, 'filhos': ['João', 'Maria']}"
      ]
     },
     "execution_count": 2,
     "metadata": {},
     "output_type": "execute_result"
    }
   ],
   "source": [
    "meu_dicionario\n"
   ]
  },
  {
   "cell_type": "code",
   "execution_count": 3,
   "id": "955bc0a2-5375-4ec1-9cb7-9f43bff7c828",
   "metadata": {
    "tags": []
   },
   "outputs": [
    {
     "data": {
      "text/plain": [
       "'Paulo'"
      ]
     },
     "execution_count": 3,
     "metadata": {},
     "output_type": "execute_result"
    }
   ],
   "source": [
    "meu_dicionario['nome']"
   ]
  },
  {
   "cell_type": "code",
   "execution_count": 4,
   "id": "4510a128-e725-41c7-854e-acd18b822d3d",
   "metadata": {
    "tags": []
   },
   "outputs": [
    {
     "data": {
      "text/plain": [
       "30"
      ]
     },
     "execution_count": 4,
     "metadata": {},
     "output_type": "execute_result"
    }
   ],
   "source": [
    "meu_dicionario['idade']"
   ]
  },
  {
   "cell_type": "code",
   "execution_count": 5,
   "id": "223d955f-6503-4137-a8fb-95ec374487b1",
   "metadata": {
    "tags": []
   },
   "outputs": [],
   "source": [
    "meu_dicionario['cidade'] = \"Cariacica\""
   ]
  },
  {
   "cell_type": "code",
   "execution_count": 7,
   "id": "f2578e36-4367-413c-972c-7f1ba24ffe6e",
   "metadata": {
    "tags": []
   },
   "outputs": [
    {
     "data": {
      "text/plain": [
       "{'nome': 'Paulo',\n",
       " 'idade': 30,\n",
       " 'filhos': ['João', 'Maria'],\n",
       " 'cidade': 'Cariacica'}"
      ]
     },
     "execution_count": 7,
     "metadata": {},
     "output_type": "execute_result"
    }
   ],
   "source": [
    "meu_dicionario"
   ]
  },
  {
   "cell_type": "code",
   "execution_count": 8,
   "id": "f2817c5a-c238-4492-bf03-3e8f84ce7bca",
   "metadata": {
    "tags": []
   },
   "outputs": [],
   "source": [
    "meu_dicionario['Frase'] = \"Hoje está 'quente'\""
   ]
  },
  {
   "cell_type": "code",
   "execution_count": 9,
   "id": "ab0db4a0-8e88-4ff0-81b4-f2379f219b92",
   "metadata": {
    "tags": []
   },
   "outputs": [
    {
     "data": {
      "text/plain": [
       "{'nome': 'Paulo',\n",
       " 'idade': 30,\n",
       " 'filhos': ['João', 'Maria'],\n",
       " 'cidade': 'Cariacica',\n",
       " 'Frase': \"Hoje está 'quente'\"}"
      ]
     },
     "execution_count": 9,
     "metadata": {},
     "output_type": "execute_result"
    }
   ],
   "source": [
    "meu_dicionario"
   ]
  },
  {
   "cell_type": "code",
   "execution_count": 10,
   "id": "9f9c51ed-7d64-4030-bc91-29a733548e0d",
   "metadata": {
    "tags": []
   },
   "outputs": [
    {
     "data": {
      "text/plain": [
       "dict_keys(['nome', 'idade', 'filhos', 'cidade', 'Frase'])"
      ]
     },
     "execution_count": 10,
     "metadata": {},
     "output_type": "execute_result"
    }
   ],
   "source": [
    "meu_dicionario.keys()"
   ]
  },
  {
   "cell_type": "code",
   "execution_count": 12,
   "id": "eea419e4-7339-4d5c-8c40-c480fa2151c7",
   "metadata": {
    "tags": []
   },
   "outputs": [
    {
     "data": {
      "text/plain": [
       "dict_items([('nome', 'Paulo'), ('idade', 30), ('filhos', ['João', 'Maria']), ('cidade', 'Cariacica'), ('Frase', \"Hoje está 'quente'\")])"
      ]
     },
     "execution_count": 12,
     "metadata": {},
     "output_type": "execute_result"
    }
   ],
   "source": [
    "meu_dicionario.items()"
   ]
  },
  {
   "cell_type": "code",
   "execution_count": 13,
   "id": "57103fe5-3540-4503-b056-d1447acdfb83",
   "metadata": {
    "tags": []
   },
   "outputs": [
    {
     "data": {
      "text/plain": [
       "dict_values(['Paulo', 30, ['João', 'Maria'], 'Cariacica', \"Hoje está 'quente'\"])"
      ]
     },
     "execution_count": 13,
     "metadata": {},
     "output_type": "execute_result"
    }
   ],
   "source": [
    "meu_dicionario.values()"
   ]
  },
  {
   "cell_type": "code",
   "execution_count": 14,
   "id": "30d83c7d-f675-4327-bd5b-97ff391dab57",
   "metadata": {
    "tags": []
   },
   "outputs": [
    {
     "name": "stdout",
     "output_type": "stream",
     "text": [
      "O nome do professor é Paulo\n"
     ]
    }
   ],
   "source": [
    "print(\"O nome do professor é\", meu_dicionario['nome'])"
   ]
  },
  {
   "cell_type": "markdown",
   "id": "b436e68c-66d3-4bff-81c9-16952a12fd6e",
   "metadata": {},
   "source": [
    "## TUPLAS"
   ]
  },
  {
   "cell_type": "code",
   "execution_count": 15,
   "id": "15b6645d-bb10-4e1c-9b5f-b4c8ffc3e468",
   "metadata": {
    "tags": []
   },
   "outputs": [],
   "source": [
    "t = (1,2,3)"
   ]
  },
  {
   "cell_type": "code",
   "execution_count": 16,
   "id": "b2d919b6-9290-4819-9013-100e3b634445",
   "metadata": {
    "tags": []
   },
   "outputs": [
    {
     "data": {
      "text/plain": [
       "2"
      ]
     },
     "execution_count": 16,
     "metadata": {},
     "output_type": "execute_result"
    }
   ],
   "source": [
    "t[1]"
   ]
  },
  {
   "cell_type": "code",
   "execution_count": 17,
   "id": "7fc55dc8-72ab-438f-b571-4b41d3d7a9be",
   "metadata": {
    "tags": []
   },
   "outputs": [],
   "source": [
    "a, b = (1,2)"
   ]
  },
  {
   "cell_type": "code",
   "execution_count": 18,
   "id": "4eaa8a7f-23eb-45b2-a10b-3c48eac8fff3",
   "metadata": {
    "tags": []
   },
   "outputs": [
    {
     "data": {
      "text/plain": [
       "1"
      ]
     },
     "execution_count": 18,
     "metadata": {},
     "output_type": "execute_result"
    }
   ],
   "source": [
    "a"
   ]
  },
  {
   "cell_type": "code",
   "execution_count": 19,
   "id": "5a5b5c97-68ff-433d-bc06-5e2f81a5056e",
   "metadata": {
    "tags": []
   },
   "outputs": [
    {
     "data": {
      "text/plain": [
       "2"
      ]
     },
     "execution_count": 19,
     "metadata": {},
     "output_type": "execute_result"
    }
   ],
   "source": [
    "b"
   ]
  }
 ],
 "metadata": {
  "kernelspec": {
   "display_name": "Python 3 (ipykernel)",
   "language": "python",
   "name": "python3"
  },
  "language_info": {
   "codemirror_mode": {
    "name": "ipython",
    "version": 3
   },
   "file_extension": ".py",
   "mimetype": "text/x-python",
   "name": "python",
   "nbconvert_exporter": "python",
   "pygments_lexer": "ipython3",
   "version": "3.11.5"
  }
 },
 "nbformat": 4,
 "nbformat_minor": 5
}
