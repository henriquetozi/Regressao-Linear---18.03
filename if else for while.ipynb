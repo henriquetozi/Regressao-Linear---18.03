{
 "cells": [
  {
   "cell_type": "markdown",
   "id": "9ad5a88b-2c79-43ae-a30f-18bb89d98e37",
   "metadata": {},
   "source": [
    "## if, elif, else"
   ]
  },
  {
   "cell_type": "code",
   "execution_count": null,
   "id": "980c6a69-e8cc-4e46-90b9-7f757639349e",
   "metadata": {
    "tags": []
   },
   "outputs": [],
   "source": [
    "print(\"Qual a temperatura hoje?\")\n",
    "temp = float (input())\n",
    "if temp > 30: \n",
    "    print (\"Está quente.\")\n",
    "    "
   ]
  },
  {
   "cell_type": "code",
   "execution_count": null,
   "id": "c3aec8b1-1d76-4d65-a1b8-be082e894ff5",
   "metadata": {
    "tags": []
   },
   "outputs": [],
   "source": [
    "print(\"Qual a temperatura hoje?\")\n",
    "temp = float (input())\n",
    "if temp > 30: \n",
    "    print (\"Está quente.\")\n",
    "elif temp < 0:\n",
    "    print(\"Está muito frio.\")\n",
    "    "
   ]
  },
  {
   "cell_type": "code",
   "execution_count": null,
   "id": "4e43bded-d64f-4954-9b9a-9b72485dab85",
   "metadata": {
    "tags": []
   },
   "outputs": [],
   "source": [
    "print(\"Qual a temperatura hoje?\")\n",
    "temp = float (input())\n",
    "if temp > 30: \n",
    "    print (\"Está quente.\")\n",
    "elif temp < 0:\n",
    "    print(\"Está muito frio.\")\n",
    "else:\n",
    "    print(\"Está uma temperatura ok.\")"
   ]
  },
  {
   "cell_type": "code",
   "execution_count": null,
   "id": "df93205f-f784-4a1b-b167-3c114081b2f2",
   "metadata": {
    "tags": []
   },
   "outputs": [],
   "source": [
    "print(\"Qual a temperatura hoje?\")\n",
    "temp = float (input())\n",
    "if temp > 30: \n",
    "    print (\"Está quente.\")\n",
    "elif temp < 0:\n",
    "    print(\"Está muito frio.\")\n",
    "elif temp < 20:\n",
    "    print (\"Está frio.\")\n",
    "else:\n",
    "    print(\"Está uma temperatura ok.\")"
   ]
  },
  {
   "cell_type": "markdown",
   "id": "a47a0cbd-240d-4554-9cd3-d6dc58d52d66",
   "metadata": {
    "tags": []
   },
   "source": [
    "## RANGE\n"
   ]
  },
  {
   "cell_type": "code",
   "execution_count": null,
   "id": "19dc4f6a-cdb8-4357-92d8-41cf3e432a17",
   "metadata": {
    "tags": []
   },
   "outputs": [],
   "source": [
    "list (range(10))"
   ]
  },
  {
   "cell_type": "markdown",
   "id": "4cf840aa-e83e-45cf-8f9e-48aa746a73e8",
   "metadata": {
    "tags": []
   },
   "source": [
    "## FOR"
   ]
  },
  {
   "cell_type": "code",
   "execution_count": null,
   "id": "0fcc38e0-1ea5-456c-b12d-6107b17021f1",
   "metadata": {
    "tags": []
   },
   "outputs": [],
   "source": [
    "for i in range (10):\n",
    "    print(i)"
   ]
  },
  {
   "cell_type": "code",
   "execution_count": null,
   "id": "0bd416b7-2bc1-43ce-a0c2-916506211902",
   "metadata": {
    "tags": []
   },
   "outputs": [],
   "source": [
    "# VERIFICADOR DE NÚMEROS PARES\n",
    "for i in range (100):\n",
    "    if i % 2 == 0:\n",
    "        print(\"Número {} é par\".format(i))"
   ]
  },
  {
   "cell_type": "markdown",
   "id": "94ac1ced-f31d-4148-8289-c45af06d38d0",
   "metadata": {
    "tags": []
   },
   "source": [
    "## WHILE"
   ]
  },
  {
   "cell_type": "code",
   "execution_count": 2,
   "id": "c19106d3-04d4-48a8-bde8-4e27508fb527",
   "metadata": {
    "tags": []
   },
   "outputs": [
    {
     "name": "stdout",
     "output_type": "stream",
     "text": [
      "O valor de x é: 0\n",
      "O valor de x é: 1\n",
      "O valor de x é: 2\n",
      "O valor de x é: 3\n",
      "O valor de x é: 4\n",
      "O valor de x é: 5\n",
      "O valor de x é: 6\n",
      "O valor de x é: 7\n",
      "O valor de x é: 8\n",
      "O valor de x é: 9\n"
     ]
    }
   ],
   "source": [
    "x = 0\n",
    "while x < 10:\n",
    "    print (\"O valor de x é: {}\".format(x))\n",
    "    x = x + 1"
   ]
  },
  {
   "cell_type": "markdown",
   "id": "29f01307-b9bf-4893-834f-046b12c18ebf",
   "metadata": {
    "tags": []
   },
   "source": [
    "## FUNÇÕES"
   ]
  },
  {
   "cell_type": "code",
   "execution_count": 3,
   "id": "601c5d53-277a-48e0-92da-43c9bd7bd5b1",
   "metadata": {
    "tags": []
   },
   "outputs": [],
   "source": [
    "def soma_numeros(x,y):\n",
    "    return x + y"
   ]
  },
  {
   "cell_type": "code",
   "execution_count": 4,
   "id": "13f0d463-6245-4fc3-836b-2ff23e0a7e22",
   "metadata": {
    "tags": []
   },
   "outputs": [
    {
     "data": {
      "text/plain": [
       "3"
      ]
     },
     "execution_count": 4,
     "metadata": {},
     "output_type": "execute_result"
    }
   ],
   "source": [
    "soma_numeros (1,2)"
   ]
  }
 ],
 "metadata": {
  "kernelspec": {
   "display_name": "Python 3 (ipykernel)",
   "language": "python",
   "name": "python3"
  },
  "language_info": {
   "codemirror_mode": {
    "name": "ipython",
    "version": 3
   },
   "file_extension": ".py",
   "mimetype": "text/x-python",
   "name": "python",
   "nbconvert_exporter": "python",
   "pygments_lexer": "ipython3",
   "version": "3.11.5"
  }
 },
 "nbformat": 4,
 "nbformat_minor": 5
}
